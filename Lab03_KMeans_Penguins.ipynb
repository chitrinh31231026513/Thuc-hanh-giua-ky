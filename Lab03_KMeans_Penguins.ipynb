## Import Packages
import numpy as np
import pandas as pd
import matplotlib.pyplot as plt
import seaborn as sns
import warnings
warnings.filterwarnings('ignore')

from sklearn.cluster import KMeans
from sklearn.preprocessing import StandardScaler
from sklearn.metrics import silhouette_score
from sklearn.decomposition import PCA
## Đọc dữ liệu

penguins_df = pd.read_csv("/kaggle/input/clustering-penguins-species/penguins.csv")
penguins_df.head()
## Làm sạch dữ liệu
#Lọc các dữ liệu NaN
penguins_df.dropna(subset=['culmen_length_mm', 'culmen_depth_mm', 'flipper_length_mm', 'body_mass_g', 'sex'], inplace=True)
penguins_df.reset_index(drop=True, inplace=True)
numeric_df = penguins_df.select_dtypes(include=[np.number])

n_cols = 2
n_rows = int(np.ceil(len(numeric_df.columns) / n_cols))

fig, axes = plt.subplots(n_rows, n_cols, figsize=(12, 4 * n_rows))

axes = axes.ravel()

for ax, col in zip(axes, numeric_df.columns):
    ax.hist(numeric_df[col], bins=30, edgecolor='black', alpha=0.7)
    ax.set_title(col.replace("_", " ").title())
    ax.set_xlabel(col)
    ax.set_ylabel("Frequency")

for i in range(len(numeric_df.columns), len(axes)):
    fig.delaxes(axes[i])

plt.tight_layout()
plt.show()
penguins_df.sort_values(by='flipper_length_mm', ascending=False).head(3)
penguins_df.sort_values(by='flipper_length_mm', ascending=True).head(3)
#Loại bỏ các Outliners 
penguins_df = penguins_df[penguins_df['flipper_length_mm'] != 5000.0]
penguins_df = penguins_df[penguins_df['flipper_length_mm'] != -132.0]
## Chuẩn bị dữ liệu cho mô hình K-Means 
df = pd.get_dummies(penguins_df).drop("sex_.", axis=1)

scaler = StandardScaler()
X = scaler.fit_transform(df)
penguins_preprocessed = pd.DataFrame(data=X, columns=df.columns)
penguins_preprocessed.head(10)
## Thực hiện phép phân tích thành phần chính

pca = PCA(n_components=None)
dfx_pca = pca.fit(penguins_preprocessed)
dfx_pca.explained_variance_ratio_
n_components = sum(dfx_pca.explained_variance_ratio_ > 0.1)
pca = PCA(n_components=n_components)
penguins_PCA = pca.fit_transform(penguins_preprocessed)
print(n_components)
## Tìm số cluster tối ưu cho mô hình K-Means 
inertia = []
for k in range(1, 10):
    kmeans = KMeans(n_clusters=k, random_state=42).fit(penguins_PCA)
    inertia.append(kmeans.inertia_)
plt.plot(range(1, 10), inertia, marker="o")
plt.xlabel("Number of clusters")
plt.ylabel("Inertia")
plt.title("Elbow Method")
plt.show()
## Xây dựng thuật toán K-Means với số cluster tối ưu = 4
n_clusters = 4
kmeans = KMeans(n_clusters=n_clusters, random_state=42).fit(penguins_PCA)
plt.scatter(penguins_PCA[:, 0], penguins_PCA[:, 1], c=kmeans.labels_, cmap="viridis")
plt.xlabel("First Principal Component")
plt.ylabel("Second Principal Component")
plt.title(f"K-means Clustering (K={n_clusters})")
plt.show()
